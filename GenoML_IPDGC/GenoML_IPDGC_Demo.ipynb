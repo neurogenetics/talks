{
 "cells": [
  {
   "cell_type": "markdown",
   "metadata": {},
   "source": [
    "# GenoML Demo for IPDGC London Workshop 2019\n",
    "\n",
    "## Details\n",
    "- **Put together by:** Hampton Leonard, Mary Makarious, and Mike Nalls\n",
    "- **Project:** GenoML Demo for IPDGC London 2019 \n",
    "- **PIs:** Mike Nalls, PhD and Andrew Singleton, PhD from the Laboratory of Neurogenetics NIH/NIA/NINDS\n",
    "- **Collaborators:** Full list of collaborators [here](https://genoml.github.io/)\n",
    "- **Date Last Updated:** 12.09.2019\n",
    "\t- Last Update: Initializing README and course folder on GitHub\n",
    "\n",
    "\n",
    "## Description + Objective \n",
    "\n",
    "## Table of Contents\n",
    "### [0. Getting Started](#0)\n",
    " 1. ???\n",
    " 2. ???\n",
    " \n",
    "### [1. Data Munging](#1)\n",
    " 1. ???\n",
    " 2. ???\n",
    " \n",
    "### [2. Training the Model](#2)\n",
    " 1. ???\n",
    " 2. ???\n",
    " \n",
    "### [3. Tuning the Model](#3)\n",
    " 1. ???\n",
    " 2. ???\n",
    " \n",
    "### [4. Testing the Model](#4)\n",
    " 1. ???\n",
    " 2. ???\n",
    " \n",
    "### [5. Interpreting Results](#5)\n",
    " 1. ???\n",
    " 2. ???"
   ]
  },
  {
   "cell_type": "markdown",
   "metadata": {},
   "source": [
    "<a id=\"0\"></a>\n",
    "## Part 0: Getting Started "
   ]
  },
  {
   "cell_type": "code",
   "execution_count": 8,
   "metadata": {},
   "outputs": [],
   "source": [
    "# Import the necessary packages \n",
    "import os\n",
    "import sys\n",
    "import argparse\n",
    "import math\n",
    "import time\n",
    "import h5py\n",
    "import joblib\n",
    "import subprocess\n",
    "import numpy as np\n",
    "import pandas as pd\n",
    "\n",
    "# Additional packages for VIF calculation\n",
    "import random\n",
    "from statsmodels.stats.outliers_influence import variance_inflation_factor\n",
    "from statsmodels.tools.tools import add_constant\n",
    "from joblib import Parallel, delayed\n",
    "\n",
    "# Additional packages for training\n",
    "import xgboost\n",
    "import sklearn\n",
    "\n",
    "# Additional packages for tuning\n",
    "from scipy.stats import randint as sp_randint\n",
    "from scipy.stats import uniform as sp_randfloat"
   ]
  },
  {
   "cell_type": "code",
   "execution_count": 2,
   "metadata": {},
   "outputs": [],
   "source": [
    "# Add PLINK to path\n",
    "\n",
    "filename = \"plink\"\n",
    "directory = os.getcwd() + \"/\" + filename\n",
    "os.environ[\"PATH\"] = os.environ[\"PATH\"] + os.pathsep + directory\n",
    "!cd ./plink\n",
    "\n",
    "# !plink --help"
   ]
  },
  {
   "cell_type": "markdown",
   "metadata": {},
   "source": [
    "<a id=\"1\"></a>\n",
    "## Part 1: Data Munging"
   ]
  },
  {
   "cell_type": "code",
   "execution_count": 3,
   "metadata": {},
   "outputs": [
    {
     "name": "stdout",
     "output_type": "stream",
     "text": [
      "\n",
      "Here is some basic info on the command you are about to run.\n",
      "Python version info...\n",
      "3.7.3 (default, Mar 27 2019, 16:54:48) \n",
      "[Clang 4.0.1 (tags/RELEASE_401/final)]\n",
      "CLI argument info...\n",
      "The output prefix for this run is ./example_outputs/test_discrete_geno and will be appended to later runs of GenoML.\n",
      "Working with genotype data? ./example_inputs/training\n",
      "Working with additional predictors? nope\n",
      "Where is your phenotype file? ./example_inputs/training_pheno.csv\n",
      "Any use for an external set of GWAS summary stats? nope\n",
      "If you plan on using external GWAs summary stats for SNP filtering, we'll only keep SNPs at what P value? 0.001\n",
      "How strong is your VIF filter? 0\n",
      "How many iterations of VIF filtering are you doing? 0\n",
      "The imputation method you picked is using the column median to fill in any remaining NAs.\n",
      "Give credit where credit is due, for this stage of analysis we use code from the great contributors to python packages: os, sys, argparse, numpy, pandas, joblib, math and time. We also use PLINKv1.9 from https://www.cog-genomics.org/plink/1.9/.\n",
      "\n",
      "No additional features as predictors? No problem, we'll stick to genotypes.\n",
      "So you don't want to filter on P values from external GWAS? No worries, we don't usually either (if the dataset is large enough).\n",
      "Pruning your data and exporting a reduced set of genotypes.\n",
      "A list of pruned variants and the allele being counted in the dosages (usually the minor allele) can be found here  ./example_outputs/test_discrete_geno.variants_and_alleles.tab.\n",
      "\n",
      "You have just imputed your genotype features, covering up NAs with the column median so that analyses don't crash due to missing data.\n",
      "Now your genotype features might look a little better (showing the first few lines of the left-most and right-most columns)...\n",
      "##############################\n",
      "         snp410_T    snp403_T    snp164_C    snp439_G    snp370_A    snp389_T  \\\n",
      "count  500.000000  500.000000  500.000000  500.000000  500.000000  500.000000   \n",
      "mean     0.866000    0.104000    0.936000    0.188000    0.698000    0.622000   \n",
      "std      0.716289    0.305566    0.696329    0.415935    0.683909    0.660294   \n",
      "min      0.000000    0.000000    0.000000    0.000000    0.000000    0.000000   \n",
      "25%      0.000000    0.000000    0.000000    0.000000    0.000000    0.000000   \n",
      "50%      1.000000    0.000000    1.000000    0.000000    1.000000    1.000000   \n",
      "75%      1.000000    0.000000    1.000000    0.000000    1.000000    1.000000   \n",
      "max      2.000000    1.000000    2.000000    2.000000    2.000000    2.000000   \n",
      "\n",
      "         snp475_T    snp399_A     snp87_C    snp308_G  ...     snp90_T  \\\n",
      "count  500.000000  500.000000  500.000000  500.000000  ...  500.000000   \n",
      "mean     0.250000    0.416000    0.754000    0.808000  ...    0.080000   \n",
      "std      0.460352    0.565317    0.662088    0.672339  ...    0.285943   \n",
      "min      0.000000    0.000000    0.000000    0.000000  ...    0.000000   \n",
      "25%      0.000000    0.000000    0.000000    0.000000  ...    0.000000   \n",
      "50%      0.000000    0.000000    1.000000    1.000000  ...    0.000000   \n",
      "75%      0.000000    1.000000    1.000000    1.000000  ...    0.000000   \n",
      "max      2.000000    2.000000    2.000000    2.000000  ...    2.000000   \n",
      "\n",
      "          snp95_A    snp377_G    snp382_T    snp450_A    snp107_A    snp224_C  \\\n",
      "count  500.000000  500.000000  500.000000  500.000000  500.000000  500.000000   \n",
      "mean     0.266000    0.572000    0.056000    0.534000    0.048000    0.642000   \n",
      "std      0.493692    0.640028    0.230152    0.652453    0.223149    0.656275   \n",
      "min      0.000000    0.000000    0.000000    0.000000    0.000000    0.000000   \n",
      "25%      0.000000    0.000000    0.000000    0.000000    0.000000    0.000000   \n",
      "50%      0.000000    0.000000    0.000000    0.000000    0.000000    1.000000   \n",
      "75%      0.000000    1.000000    0.000000    1.000000    0.000000    1.000000   \n",
      "max      2.000000    2.000000    1.000000    2.000000    2.000000    2.000000   \n",
      "\n",
      "         snp368_G    snp304_C   snp306_G  \n",
      "count  500.000000  500.000000  500.00000  \n",
      "mean     0.270000    0.250000    0.02200  \n",
      "std      0.491511    0.473231    0.14683  \n",
      "min      0.000000    0.000000    0.00000  \n",
      "25%      0.000000    0.000000    0.00000  \n",
      "50%      0.000000    0.000000    0.00000  \n",
      "75%      0.000000    0.000000    0.00000  \n",
      "max      2.000000    2.000000    1.00000  \n",
      "\n",
      "[8 rows x 449 columns]\n",
      "##############################\n",
      "\n",
      "\n",
      "Thanks for munging some data with GenoML!\n",
      "\n"
     ]
    }
   ],
   "source": [
    "%run -i ./scripts/munging.py\\\n",
    "--prefix ./example_outputs/test_discrete_geno\\\n",
    "--pheno ./example_inputs/training_pheno.csv\\\n",
    "--geno ./example_inputs/training\n",
    "\n",
    "## Does not include VIF filter!"
   ]
  },
  {
   "cell_type": "markdown",
   "metadata": {},
   "source": [
    "<a id=\"2\"></a>\n",
    "## Part 2: Training the Model"
   ]
  },
  {
   "cell_type": "code",
   "execution_count": 4,
   "metadata": {},
   "outputs": [
    {
     "name": "stdout",
     "output_type": "stream",
     "text": [
      "\n",
      "Here is some basic info on the command you are about to run.\n",
      "Python version info...\n",
      "3.7.3 (default, Mar 27 2019, 16:54:48) \n",
      "[Clang 4.0.1 (tags/RELEASE_401/final)]\n",
      "CLI argument info...\n",
      "Are you ranking features, even though it is pretty slow? Right now, GenoML runs general recursive feature ranking. You chose to run this part.\n",
      "Working with dataset ./example_outputs/test_discrete_geno from previous data munging efforts.\n",
      "Give credit where credit is due, for this stage of analysis we use code from the great contributors to Python packages: argparse, xgboost, sklearn, pandas, numpy, time, matplotlib and seaborn.\n",
      "As a note, in all exported probabilities and other graphics, case status is treated as a 0 or 1, with 1 representing a positive case.\n",
      "\n",
      "\n",
      "Your data looks like this (showing the first few lines of the left-most and right-most columns)...\n",
      "##############################\n",
      "            PHENO    snp410_T    snp403_T    snp164_C    snp439_G    snp370_A  \\\n",
      "count  500.000000  500.000000  500.000000  500.000000  500.000000  500.000000   \n",
      "mean     0.684000    0.866000    0.104000    0.936000    0.188000    0.698000   \n",
      "std      0.465379    0.716289    0.305566    0.696329    0.415935    0.683909   \n",
      "min      0.000000    0.000000    0.000000    0.000000    0.000000    0.000000   \n",
      "25%      0.000000    0.000000    0.000000    0.000000    0.000000    0.000000   \n",
      "50%      1.000000    1.000000    0.000000    1.000000    0.000000    1.000000   \n",
      "75%      1.000000    1.000000    0.000000    1.000000    0.000000    1.000000   \n",
      "max      1.000000    2.000000    1.000000    2.000000    2.000000    2.000000   \n",
      "\n",
      "         snp389_T    snp475_T    snp399_A     snp87_C  ...     snp90_T  \\\n",
      "count  500.000000  500.000000  500.000000  500.000000  ...  500.000000   \n",
      "mean     0.622000    0.250000    0.416000    0.754000  ...    0.080000   \n",
      "std      0.660294    0.460352    0.565317    0.662088  ...    0.285943   \n",
      "min      0.000000    0.000000    0.000000    0.000000  ...    0.000000   \n",
      "25%      0.000000    0.000000    0.000000    0.000000  ...    0.000000   \n",
      "50%      1.000000    0.000000    0.000000    1.000000  ...    0.000000   \n",
      "75%      1.000000    0.000000    1.000000    1.000000  ...    0.000000   \n",
      "max      2.000000    2.000000    2.000000    2.000000  ...    2.000000   \n",
      "\n",
      "          snp95_A    snp377_G    snp382_T    snp450_A    snp107_A    snp224_C  \\\n",
      "count  500.000000  500.000000  500.000000  500.000000  500.000000  500.000000   \n",
      "mean     0.266000    0.572000    0.056000    0.534000    0.048000    0.642000   \n",
      "std      0.493692    0.640028    0.230152    0.652453    0.223149    0.656275   \n",
      "min      0.000000    0.000000    0.000000    0.000000    0.000000    0.000000   \n",
      "25%      0.000000    0.000000    0.000000    0.000000    0.000000    0.000000   \n",
      "50%      0.000000    0.000000    0.000000    0.000000    0.000000    1.000000   \n",
      "75%      0.000000    1.000000    0.000000    1.000000    0.000000    1.000000   \n",
      "max      2.000000    2.000000    1.000000    2.000000    2.000000    2.000000   \n",
      "\n",
      "         snp368_G    snp304_C   snp306_G  \n",
      "count  500.000000  500.000000  500.00000  \n",
      "mean     0.270000    0.250000    0.02200  \n",
      "std      0.491511    0.473231    0.14683  \n",
      "min      0.000000    0.000000    0.00000  \n",
      "25%      0.000000    0.000000    0.00000  \n",
      "50%      0.000000    0.000000    0.00000  \n",
      "75%      0.000000    0.000000    0.00000  \n",
      "max      2.000000    2.000000    1.00000  \n",
      "\n",
      "[8 rows x 450 columns]\n",
      "##############################\n",
      "\n",
      "\n",
      "Now let's compete these algorithms!\n",
      "We'll update you as each algorithm runs, then summarize at the end.\n",
      "Here we test each algorithm under default settings using the same training and test datasets derived from a 70% training and 30% testing split of your data.\n",
      "For each algorithm, we will output the following metrics...\n",
      "Algorithm name, hoping that's pretty self-explanatory. Plenty of resources on these common ML algorithms at https://scikit-learn.org and https://xgboost.readthedocs.io/.\n",
      "AUC_percent, this is the area under the curve from reciever operating characteristic analyses. This is the most common metric of classifier performance in biomedical literature, we express this as a percent. We calculate AUC based on the predicted probability of being a case.\n",
      "Accuracy_percent, this is the simple accuracy of the classifer, how many predictions were correct from best classification cutoff (python default).\n",
      "Balanced_Accuracy_Percent, consider this as the accuracy resampled to a 1:1 mix of cases and controls. Imbalanced datasets can give funny results for simple accuracy.\n",
      "Log_Loss, this is essentially the inverse of the likelihood function for a correct prediction, you want to minimize this.\n",
      "Sensitivity, proportion of cases correcctly identified.\n",
      "Specificity, proportion of controls correctly identified.\n",
      "PPV, this is the positive predictive value, the probability that subjects with a positive result actually have the disease.\n",
      "NPV, this is the negative predictive value, the probability that subjects with a negative result don't have the disease.\n",
      "We also log the runtimes per algorithm.\n",
      "\n",
      "Algorithm summaries incoming...\n",
      "\n",
      "##############################\n",
      "LogisticRegression\n"
     ]
    },
    {
     "name": "stderr",
     "output_type": "stream",
     "text": [
      "/Users/makariousmb/anaconda3/lib/python3.7/site-packages/sklearn/linear_model/logistic.py:432: FutureWarning: Default solver will be changed to 'lbfgs' in 0.22. Specify a solver to silence this warning.\n",
      "  FutureWarning)\n"
     ]
    },
    {
     "name": "stdout",
     "output_type": "stream",
     "text": [
      "AUC: 47.7637%\n",
      "Accuracy: 53.3333%\n",
      "Balanced Accuracy: 46.3047%\n",
      "Log Loss: 1.384\n",
      "Runtime in seconds: 0.2575\n",
      "##############################\n",
      "RandomForestClassifier\n",
      "AUC: 50.0957%\n",
      "Accuracy: 62.6667%\n",
      "Balanced Accuracy: 50.6817%\n",
      "Log Loss: 0.6274\n",
      "Runtime in seconds: 0.0276\n",
      "##############################\n",
      "AdaBoostClassifier\n",
      "AUC: 46.2090%\n",
      "Accuracy: 56.6667%\n",
      "Balanced Accuracy: 48.5171%\n"
     ]
    },
    {
     "name": "stderr",
     "output_type": "stream",
     "text": [
      "/Users/makariousmb/anaconda3/lib/python3.7/site-packages/sklearn/ensemble/forest.py:245: FutureWarning: The default value of n_estimators will change from 10 in version 0.20 to 100 in 0.22.\n",
      "  \"10 in version 0.20 to 100 in 0.22.\", FutureWarning)\n"
     ]
    },
    {
     "name": "stdout",
     "output_type": "stream",
     "text": [
      "Log Loss: 0.6894\n",
      "Runtime in seconds: 0.17\n",
      "##############################\n",
      "GradientBoostingClassifier\n",
      "AUC: 47.1657%\n",
      "Accuracy: 68.0000%\n",
      "Balanced Accuracy: 54.2215%\n",
      "Log Loss: 0.7068\n",
      "Runtime in seconds: 0.3912\n",
      "##############################\n",
      "SGDClassifier\n",
      "AUC: 49.7967%\n",
      "Accuracy: 61.3333%\n",
      "Balanced Accuracy: 49.7967%\n",
      "Log Loss: 13.35\n",
      "Runtime in seconds: 0.01117\n"
     ]
    },
    {
     "name": "stderr",
     "output_type": "stream",
     "text": [
      "/Users/makariousmb/anaconda3/lib/python3.7/site-packages/sklearn/svm/base.py:193: FutureWarning: The default value of gamma will change from 'auto' to 'scale' in version 0.22 to account better for unscaled features. Set gamma explicitly to 'auto' or 'scale' to avoid this warning.\n",
      "  \"avoid this warning.\", FutureWarning)\n"
     ]
    },
    {
     "name": "stdout",
     "output_type": "stream",
     "text": [
      "##############################\n",
      "SVC\n",
      "AUC: 52.6190%\n",
      "Accuracy: 75.3333%\n",
      "Balanced Accuracy: 50.0000%\n",
      "Log Loss: 0.5813\n",
      "Runtime in seconds: 0.3711\n"
     ]
    },
    {
     "name": "stderr",
     "output_type": "stream",
     "text": [
      "./scripts/training.py:124: RuntimeWarning: invalid value encountered in long_scalars\n",
      "  NPV = TN/(TN+FN)\n"
     ]
    },
    {
     "name": "stdout",
     "output_type": "stream",
     "text": [
      "##############################\n",
      "MLPClassifier\n",
      "AUC: 47.2375%\n",
      "Accuracy: 59.3333%\n",
      "Balanced Accuracy: 48.4693%\n",
      "Log Loss: 1.163\n",
      "Runtime in seconds: 0.3566\n",
      "##############################\n",
      "KNeighborsClassifier\n",
      "AUC: 53.0615%\n",
      "Accuracy: 64.6667%\n",
      "Balanced Accuracy: 54.7357%\n",
      "Log Loss: 1.545\n",
      "Runtime in seconds: 0.134\n",
      "##############################\n",
      "LinearDiscriminantAnalysis\n",
      "AUC: 46.1373%\n",
      "Accuracy: 54.0000%\n",
      "Balanced Accuracy: 50.3827%\n",
      "Log Loss: 6.67\n",
      "Runtime in seconds: 0.05191\n"
     ]
    },
    {
     "name": "stderr",
     "output_type": "stream",
     "text": [
      "/Users/makariousmb/anaconda3/lib/python3.7/site-packages/sklearn/discriminant_analysis.py:388: UserWarning: Variables are collinear.\n",
      "  warnings.warn(\"Variables are collinear.\")\n",
      "/Users/makariousmb/anaconda3/lib/python3.7/site-packages/sklearn/discriminant_analysis.py:693: UserWarning: Variables are collinear\n",
      "  warnings.warn(\"Variables are collinear\")\n"
     ]
    },
    {
     "name": "stdout",
     "output_type": "stream",
     "text": [
      "##############################\n",
      "QuadraticDiscriminantAnalysis\n",
      "AUC: 49.1509%\n",
      "Accuracy: 46.6667%\n",
      "Balanced Accuracy: 49.1509%\n",
      "Log Loss: 18.42\n",
      "Runtime in seconds: 0.03037\n",
      "##############################\n",
      "BaggingClassifier\n",
      "AUC: 46.7591%\n",
      "Accuracy: 56.0000%\n",
      "Balanced Accuracy: 44.4391%\n",
      "Log Loss: 0.6543\n",
      "Runtime in seconds: 0.0961\n",
      "##############################\n",
      "XGBClassifier\n",
      "AUC: 46.5200%\n",
      "Accuracy: 64.0000%\n",
      "Balanced Accuracy: 49.7489%\n",
      "Log Loss: 0.6921\n",
      "Runtime in seconds: 0.7144\n",
      "##############################\n",
      "\n",
      "This table below is also logged as ./example_outputs/test_discrete_geno.training_withheldSamples_performanceMetrics.csv and is in your current working directory...\n",
      "##############################\n",
      "                       Algorithm  AUC_Percent  Accuracy_Percent  \\\n",
      "0             LogisticRegression    47.763693         53.333333   \n",
      "0         RandomForestClassifier    50.095671         62.666667   \n",
      "0             AdaBoostClassifier    46.209041         56.666667   \n",
      "0     GradientBoostingClassifier    47.165750         68.000000   \n",
      "0                  SGDClassifier    49.796699         61.333333   \n",
      "0                            SVC    52.618991         75.333333   \n",
      "0                  MLPClassifier    47.237503         59.333333   \n",
      "0           KNeighborsClassifier    53.061469         64.666667   \n",
      "0     LinearDiscriminantAnalysis    46.137288         54.000000   \n",
      "0  QuadraticDiscriminantAnalysis    49.150921         46.666667   \n",
      "0              BaggingClassifier    46.759149         56.000000   \n",
      "0                  XGBClassifier    46.519971         64.000000   \n",
      "\n",
      "   Balanced_Accuracy_Percent   Log_Loss  Sensitivity  Specificity       PPV  \\\n",
      "0                  46.304712   1.383788     0.601770     0.324324  0.731183   \n",
      "0                  50.681655   0.627357     0.743363     0.270270  0.756757   \n",
      "0                  48.517101   0.689381     0.646018     0.324324  0.744898   \n",
      "0                  54.221478   0.706795     0.814159     0.270270  0.773109   \n",
      "0                  49.796699  13.354994     0.725664     0.270270  0.752294   \n",
      "0                  50.000000   0.581272     1.000000     0.000000  0.753333   \n",
      "0                  48.469266   1.163089     0.699115     0.270270  0.745283   \n",
      "0                  54.735709   1.544549     0.743363     0.351351  0.777778   \n",
      "0                  50.382684   6.670427     0.575221     0.432432  0.755814   \n",
      "0                  49.150921  18.420681     0.442478     0.540541  0.746269   \n",
      "0                  44.439129   0.654322     0.672566     0.216216  0.723810   \n",
      "0                  49.748864   0.692146     0.778761     0.216216  0.752137   \n",
      "\n",
      "        NPV  Runtime_Seconds  \n",
      "0  0.210526         0.257534  \n",
      "0  0.256410         0.027595  \n",
      "0  0.230769         0.170004  \n",
      "0  0.322581         0.391175  \n",
      "0  0.243902         0.011171  \n",
      "0       NaN         0.371065  \n",
      "0  0.227273         0.356567  \n",
      "0  0.309524         0.133975  \n",
      "0  0.250000         0.051911  \n",
      "0  0.240964         0.030367  \n",
      "0  0.177778         0.096103  \n",
      "0  0.242424         0.714442  \n",
      "##############################\n",
      "\n",
      "Based on your withheld samples, the algorithm with the best AUC is the KNeighborsClassifier ... lets save that model for you.\n",
      "...remember, there are occasionally slight fluxuations in model performance on the same withheld samples...\n",
      "##############################\n",
      "KNeighborsClassifier\n",
      "AUC: 53.0615%\n",
      "Accuracy: 64.6667%\n",
      "Balanced Accuracy: 54.7357%\n",
      "Log Loss: 1.545\n",
      "##############################\n",
      "... this model has been saved as ./example_outputs/test_discrete_geno.trainedModel.joblib for later use and can be found in your working directory.\n",
      "\n",
      "We are also exporting a ROC curve for you here ./example_outputs/test_discrete_geno.trainedModel_withheldSample_ROC.png this is a graphical representation of AUC in the withheld test data for the best performing algorithm.\n",
      "\n",
      "Preview of the exported predictions for the withheld test data that has been exported as ./example_outputs/test_discrete_geno.trainedModel_withheldSample_Predictions.csv these are pretty straight forward.\n",
      "They generally include the sample ID, the previously reported case status (1 = case), the case probability from the best performing algorithm and the predicted label from that algorithm,\n",
      "##############################\n",
      "          ID  CASE_REPORTED  CASE_PROBABILITY  CASE_PREDICTED\n",
      "0  sample362              1               0.8               1\n",
      "1   sample74              0               0.6               1\n",
      "2  sample375              0               0.8               1\n",
      "3  sample156              1               0.6               1\n",
      "4  sample105              1               0.2               0\n",
      "##############################\n",
      "\n",
      "Preview of the exported predictions for the training samples which is naturally overfit and exported as ./example_outputs/test_discrete_geno.trainedModel_trainingSample_Predictions.csv in the similar format as in the withheld test dataset that was just exported.\n",
      "##############################\n",
      "          ID  CASE_REPORTED  CASE_PROBABILITY  CASE_PREDICTED\n",
      "0    sample6              1               0.8               1\n",
      "1  sample117              0               0.4               0\n",
      "2   sample46              1               1.0               1\n",
      "3   sample17              1               0.4               0\n",
      "4  sample463              1               0.6               1\n",
      "##############################\n",
      "\n",
      "We are also exporting probability density plots to the file ./example_outputs/test_discrete_geno.trainedModel_withheldSample_probabilities.png this is a plot of the probability distributions of being a case, stratified by case and control status in the withheld test samples.\n",
      "Even if you selected to run feature ranking, you can't generate feature ranks using SVC, ComplementNB, KNeighborsClassifier, QuadraticDiscriminantAnalysis or BaggingClassifier... it just isn't possible.\n",
      "\n",
      "Thanks for training a model with GenoML!\n",
      "\n"
     ]
    },
    {
     "data": {
      "image/png": "[encoded data removed]",
      "text/plain": [
       "<Figure size 432x288 with 1 Axes>"
      ]
     },
     "metadata": {
      "needs_background": "light"
     },
     "output_type": "display_data"
    },
    {
     "data": {
      "image/png": "[encoded data removed]",
      "text/plain": [
       "<Figure size 309x216 with 1 Axes>"
      ]
     },
     "metadata": {
      "needs_background": "light"
     },
     "output_type": "display_data"
    }
   ],
   "source": [
    "%run -i ./scripts/training.py\\\n",
    "--prefix ./example_outputs/test_discrete_geno\\\n",
    "--rank-features run"
   ]
  },
  {
   "cell_type": "markdown",
   "metadata": {},
   "source": [
    "<a id=\"3\"></a>\n",
    "## Part 3: Tuning the Model"
   ]
  },
  {
   "cell_type": "code",
   "execution_count": 9,
   "metadata": {},
   "outputs": [
    {
     "name": "stdout",
     "output_type": "stream",
     "text": [
      "Here is some basic info on the command you are about to run.\n",
      "Python version info...\n",
      "3.7.3 (default, Mar 27 2019, 16:54:48) \n",
      "[Clang 4.0.1 (tags/RELEASE_401/final)]\n",
      "CLI argument info...\n",
      "Working with the dataset and best model corresponding to prefix ./example_outputs/test_discrete_geno the timestamp from the merge is the prefix in most cases.\n",
      "Your maximum number of tuning iterations is 10 and if you are concerned about runtime, make this number smaller.\n",
      "You are running 3 rounds of cross-valdiation, and again... if you are concerned about runtime, make this number smaller.\n",
      "Give credit where credit is due, for this stage of analysis we use code from the great contributors to python packages: argparse, xgboost, sklearn, pandas, numpy, time, matplotlib and seaborn.\n",
      "As a note, in all exported probabilities and other graphics, case status is treated as a 0 or 1, with 1 representing a positive case.\n",
      "\n",
      "\n",
      "Your data looks like this (showing the first few lines of the left-most and right-most columns)...\n",
      "##############################\n",
      "            PHENO    snp410_T    snp403_T    snp164_C    snp439_G    snp370_A  \\\n",
      "count  500.000000  500.000000  500.000000  500.000000  500.000000  500.000000   \n",
      "mean     0.684000    0.866000    0.104000    0.936000    0.188000    0.698000   \n",
      "std      0.465379    0.716289    0.305566    0.696329    0.415935    0.683909   \n",
      "min      0.000000    0.000000    0.000000    0.000000    0.000000    0.000000   \n",
      "25%      0.000000    0.000000    0.000000    0.000000    0.000000    0.000000   \n",
      "50%      1.000000    1.000000    0.000000    1.000000    0.000000    1.000000   \n",
      "75%      1.000000    1.000000    0.000000    1.000000    0.000000    1.000000   \n",
      "max      1.000000    2.000000    1.000000    2.000000    2.000000    2.000000   \n",
      "\n",
      "         snp389_T    snp475_T    snp399_A     snp87_C  ...     snp90_T  \\\n",
      "count  500.000000  500.000000  500.000000  500.000000  ...  500.000000   \n",
      "mean     0.622000    0.250000    0.416000    0.754000  ...    0.080000   \n",
      "std      0.660294    0.460352    0.565317    0.662088  ...    0.285943   \n",
      "min      0.000000    0.000000    0.000000    0.000000  ...    0.000000   \n",
      "25%      0.000000    0.000000    0.000000    0.000000  ...    0.000000   \n",
      "50%      1.000000    0.000000    0.000000    1.000000  ...    0.000000   \n",
      "75%      1.000000    0.000000    1.000000    1.000000  ...    0.000000   \n",
      "max      2.000000    2.000000    2.000000    2.000000  ...    2.000000   \n",
      "\n",
      "          snp95_A    snp377_G    snp382_T    snp450_A    snp107_A    snp224_C  \\\n",
      "count  500.000000  500.000000  500.000000  500.000000  500.000000  500.000000   \n",
      "mean     0.266000    0.572000    0.056000    0.534000    0.048000    0.642000   \n",
      "std      0.493692    0.640028    0.230152    0.652453    0.223149    0.656275   \n",
      "min      0.000000    0.000000    0.000000    0.000000    0.000000    0.000000   \n",
      "25%      0.000000    0.000000    0.000000    0.000000    0.000000    0.000000   \n",
      "50%      0.000000    0.000000    0.000000    0.000000    0.000000    1.000000   \n",
      "75%      0.000000    1.000000    0.000000    1.000000    0.000000    1.000000   \n",
      "max      2.000000    2.000000    1.000000    2.000000    2.000000    2.000000   \n",
      "\n",
      "         snp368_G    snp304_C   snp306_G  \n",
      "count  500.000000  500.000000  500.00000  \n",
      "mean     0.270000    0.250000    0.02200  \n",
      "std      0.491511    0.473231    0.14683  \n",
      "min      0.000000    0.000000    0.00000  \n",
      "25%      0.000000    0.000000    0.00000  \n",
      "50%      0.000000    0.000000    0.00000  \n",
      "75%      0.000000    0.000000    0.00000  \n",
      "max      2.000000    2.000000    1.00000  \n",
      "\n",
      "[8 rows x 450 columns]\n",
      "##############################\n",
      "\n",
      "From previous analyses in the training phase, we've determined that the best algorithm for this application is KNeighborsClassifier  ... so lets tune it up and see what gains we can make!\n",
      "Here is a summary of the top 10 iterations of the hyperparameter tune...\n"
     ]
    },
    {
     "ename": "TypeError",
     "evalue": "'module' object is not callable",
     "output_type": "error",
     "traceback": [
      "\u001b[0;31m---------------------------------------------------------------------------\u001b[0m",
      "\u001b[0;31mTypeError\u001b[0m                                 Traceback (most recent call last)",
      "\u001b[0;32m~/Documents/GitHub/Neurogenetics_GitHub/talks/GenoML_IPDGC/scripts/tuning.py\u001b[0m in \u001b[0;36m<module>\u001b[0;34m\u001b[0m\n\u001b[1;32m    138\u001b[0m \u001b[0;34m\u001b[0m\u001b[0m\n\u001b[1;32m    139\u001b[0m \u001b[0mrand_search\u001b[0m \u001b[0;34m=\u001b[0m \u001b[0mRandomizedSearchCV\u001b[0m\u001b[0;34m(\u001b[0m\u001b[0mestimator\u001b[0m\u001b[0;34m=\u001b[0m\u001b[0malgo\u001b[0m\u001b[0;34m,\u001b[0m \u001b[0mparam_distributions\u001b[0m\u001b[0;34m=\u001b[0m\u001b[0mhyperparameters\u001b[0m\u001b[0;34m,\u001b[0m \u001b[0mscoring\u001b[0m\u001b[0;34m=\u001b[0m\u001b[0mscoring_metric\u001b[0m\u001b[0;34m,\u001b[0m \u001b[0mn_iter\u001b[0m\u001b[0;34m=\u001b[0m\u001b[0mmax_iter\u001b[0m\u001b[0;34m,\u001b[0m \u001b[0mcv\u001b[0m\u001b[0;34m=\u001b[0m\u001b[0mcv_count\u001b[0m\u001b[0;34m,\u001b[0m \u001b[0mn_jobs\u001b[0m\u001b[0;34m=\u001b[0m\u001b[0;34m-\u001b[0m\u001b[0;36m1\u001b[0m\u001b[0;34m,\u001b[0m \u001b[0mrandom_state\u001b[0m\u001b[0;34m=\u001b[0m\u001b[0;36m153\u001b[0m\u001b[0;34m,\u001b[0m \u001b[0mverbose\u001b[0m\u001b[0;34m=\u001b[0m\u001b[0;36m0\u001b[0m\u001b[0;34m)\u001b[0m\u001b[0;34m\u001b[0m\u001b[0;34m\u001b[0m\u001b[0m\n\u001b[0;32m--> 140\u001b[0;31m \u001b[0mstart\u001b[0m \u001b[0;34m=\u001b[0m \u001b[0mtime\u001b[0m\u001b[0;34m(\u001b[0m\u001b[0;34m)\u001b[0m\u001b[0;34m\u001b[0m\u001b[0;34m\u001b[0m\u001b[0m\n\u001b[0m\u001b[1;32m    141\u001b[0m \u001b[0mrand_search\u001b[0m\u001b[0;34m.\u001b[0m\u001b[0mfit\u001b[0m\u001b[0;34m(\u001b[0m\u001b[0mX_tune\u001b[0m\u001b[0;34m,\u001b[0m \u001b[0my_tune\u001b[0m\u001b[0;34m)\u001b[0m\u001b[0;34m\u001b[0m\u001b[0;34m\u001b[0m\u001b[0m\n\u001b[1;32m    142\u001b[0m print(\"RandomizedSearchCV took %.2f seconds for %d candidates\"\n",
      "\u001b[0;31mTypeError\u001b[0m: 'module' object is not callable"
     ]
    }
   ],
   "source": [
    "%run -i ./scripts/tuning.py\\\n",
    "--prefix ./example_outputs/test_discrete_geno\\\n",
    "--max-tune 10\\\n",
    "--n-cv 3\n",
    "\n",
    "# FIXME: Module not callable error?"
   ]
  },
  {
   "cell_type": "markdown",
   "metadata": {},
   "source": [
    "<a id=\"4\"></a>\n",
    "## Part 4: Testing the Model"
   ]
  },
  {
   "cell_type": "code",
   "execution_count": null,
   "metadata": {},
   "outputs": [],
   "source": [
    "## TODO"
   ]
  },
  {
   "cell_type": "markdown",
   "metadata": {},
   "source": [
    "<a id=\"5\"></a>\n",
    "## Part 5: Interpreting the Results"
   ]
  },
  {
   "cell_type": "code",
   "execution_count": null,
   "metadata": {},
   "outputs": [],
   "source": [
    "## TODO"
   ]
  }
 ],
 "metadata": {
  "kernelspec": {
   "display_name": "Python 3",
   "language": "python",
   "name": "python3"
  },
  "language_info": {
   "codemirror_mode": {
    "name": "ipython",
    "version": 3
   },
   "file_extension": ".py",
   "mimetype": "text/x-python",
   "name": "python",
   "nbconvert_exporter": "python",
   "pygments_lexer": "ipython3",
   "version": "3.7.3"
  }
 },
 "nbformat": 4,
 "nbformat_minor": 4
}
