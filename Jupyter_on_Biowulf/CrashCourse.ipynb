{
 "cells": [
  {
   "cell_type": "markdown",
   "metadata": {},
   "source": [
    "# Jupyter Mini-Crash Course: Biowulf, R vs. Python, and Swarms\n",
    "- **Written By:** Mary B. Makarious and Hirotaka Iwaki \n",
    "- **Last Updated:** 12.06.2019\n",
    "- **Written In:** Python 3.6 (Check to see the kernel on the top right!)\n",
    "\n",
    "## Introduction\n",
    "\n",
    "**Reproducibility** is the key to robust science. Keeping your codes in a way that anybody can trace what you have done is important. \n",
    "\n",
    "**Jupyter Notebook** is an efficient tool for sharing your analysis in a reproducible form. Another advantage of using jupyter notebook is that you can utilize the power of Biowulf so that you can adapt many techniques to **accerelate your analyses**.\n",
    "As trial-and-error is necessary for scripting, spinning this cycle as fast as possible is critical. \n",
    "\n",
    "What is Jupyter? The name Jupyter is an indirect acronym of the three core languages it was designed for: **JU**lia, **PYT**hon, and **R** and is inspired by the planet Jupiter.\n",
    "\n",
    "**However**, if you have never used Jupyter notebook on Biowulf, you may not want to be bothered to take time reading the manuals.\n",
    "\n",
    "\n",
    "This notebook aims to cover the following: \n",
    "1. Two scripts to automate the setting-up of a Jupyter notebook environment\n",
    "2. Quick and dirty method to incorporate Python, Bash and R in one notebook\n",
    "3. Comparisons between common R functions and how to get started in Python\n",
    "4. Basic job control and parameter tuning for swarm jobs\n",
    "5. Enjoy!\n",
    "\n",
    "Mike's summer student last year created a neat mini-intro to Jupyter as a whole that you can find [here](https://github.com/neurogenetics/seminar/blob/master/Examples%20and%20Tutorials/NotebooksTutorial.ipynb)\n",
    "    \n"
   ]
  },
  {
   "cell_type": "markdown",
   "metadata": {},
   "source": [
    "## Benefits to Using Jupyter Notebooks/Lab\n",
    "- Saves all the output within the notebook! (This includes plots)\n",
    "- Can run chunks of `R` or `bash` if necessary\n",
    "- Run in chunks -- which is good for troubleshooting \n",
    "- Can include Markdown chunks -- which is good for documentation and later replication\n",
    "- Can generate presentation slides directly from the notebook \n",
    "- Can generate an HTML or PDF that is shareable -- with all inputs and outputs\n",
    "- In JupyterLab: Can have a Terminal window open as well in the same environment "
   ]
  },
  {
   "cell_type": "markdown",
   "metadata": {},
   "source": [
    "---"
   ]
  },
  {
   "cell_type": "markdown",
   "metadata": {},
   "source": [
    "# 1. Setting Up *expect* Scripts\n",
    "\n",
    "2 scripts are necessary to start a Jupyter notebook in Biowulf, which will be saved as `first.txt` and `second.txt`.\n",
    "\n",
    "These 2 files will be saved somewhere on your Desktop and will be accessed via the terminal.\n",
    "\n",
    "For both of these scripts, you will **need to change** the username to be your own username when you make them.\n",
    "\n",
    "Paste the following chunk into a text file that you will name `first.txt`"
   ]
  },
  {
   "cell_type": "markdown",
   "metadata": {},
   "source": [
    "```bash \n",
    "# Set user name\n",
    "set USER yourBiowulfusernamehere\n",
    "\n",
    "# grab the password \n",
    "stty -echo\n",
    "send_user -- \"Password for ${USER}@biowulf.nih.gov: \"\n",
    "expect_user -re \"(.*)\\n\"\n",
    "send_user \"\\n\"\n",
    "stty echo\n",
    "set PASS $expect_out(1,string)\n",
    "\n",
    "# Login and set up interactive node\n",
    "set timeout -1\n",
    "spawn env LANG=C /usr/bin/ssh ${USER}@biowulf.nih.gov\n",
    "expect {\n",
    "    \"${USER}@biowulf.nih.gov's password: \" {\n",
    "        send \"${PASS}\\n\"\n",
    "    }\n",
    "}\n",
    "expect {\n",
    "    \"\\\\\\$\" {\n",
    "        send \"module load tmux;tmux\\n\"\n",
    "    }\n",
    "}\n",
    "expect {\n",
    "    \"\\\\\\$\" {\n",
    "        send \"sinteractive --tunnel --cpus-per-task=2 --mem=200g --gres=lscratch:200 --time=13:00:00\\n\"\n",
    "    }\n",
    "}\n",
    "\n",
    "# Write out the allocated port, install modules frequently used, and set up jupyterLab\n",
    "## you may like to go to a different directory before setting up the jupyter lab\n",
    "expect {\n",
    "    \"\\\\\\$\" {\n",
    "        send \"echo \\${PORT1} > sinteractive_port.txt; \\\n",
    "        module load R; \\\n",
    "        cd /data/${USER}; \\\n",
    "        module load annovar; \\\n",
    "        module load plink; \\\n",
    "        module load flashpca; \\\n",
    "        module load jupyter;jupyter lab --ip localhost --port \\${PORT1} --no-browser\\n\"\n",
    "    }\n",
    "}\n",
    "interact\n",
    "\n",
    "```"
   ]
  },
  {
   "cell_type": "markdown",
   "metadata": {},
   "source": [
    "Now, paste the next chunk as `second.txt`"
   ]
  },
  {
   "cell_type": "markdown",
   "metadata": {},
   "source": [
    "```bash\n",
    "# User name \n",
    "set USER yourBiowulfusernamehere\n",
    "\n",
    "# grab the password \n",
    "stty -echo\n",
    "send_user -- \"Password for ${USER}@biowulf.nih.gov: \"\n",
    "expect_user -re \"(.*)\\n\"\n",
    "send_user \"\\n\"\n",
    "stty echo\n",
    "set PASS $expect_out(1,string)\n",
    "\n",
    "# Download port information for sinteractive node\n",
    "spawn scp ${USER}@biowulf.nih.gov:/home/${USER}/sinteractive_port.txt .\n",
    "expect {\n",
    "    \"${USER}@biowulf.nih.gov's password: \" {\n",
    "        send \"${PASS}\\n\"\n",
    "    }\n",
    "}\n",
    "expect {\"\\\\\\$\"} # Wait until the download finishes\n",
    "\n",
    "# Tunnel to the sinteractive node\n",
    "set NODE [exec cat sinteractive_port.txt]\n",
    "spawn /usr/bin/ssh -L ${NODE}:localhost:${NODE} biowulf.nih.gov\n",
    "expect {\n",
    "    \"${USER}@biowulf.nih.gov's password: \" {\n",
    "        send \"${PASS}\\n\"\n",
    "    }\n",
    "}\n",
    "interact\n",
    "```"
   ]
  },
  {
   "cell_type": "markdown",
   "metadata": {},
   "source": [
    "### Running *expect* Scripts to Login and Tunnel to the `sinteractive` node\n",
    "\n",
    "After creating the above `.txt` files, run the first command (that is saved somewhere on your local computer) and wait until sinteractive node is set up\n",
    "\n",
    "`expect first.txt`\n",
    "\n",
    "Open a new Terminal window, and run the second command\n",
    "\n",
    "`expect second.txt`\n",
    "    \n",
    "Great! Now we can connect to Jupyter!\n",
    "If you go back to the Terminal with the interactive node, there should be a path that looks like the following \n",
    "\n",
    "`http://localhost:37674/?token=123456789123456789`\n",
    "\n",
    "Go ahead highlight this, right click, and open URL. This should open in your default web browser.\n",
    "\n",
    "You need to customize your `first.txt` as needed for modules you want to include or home directory you want to start in.\n",
    "(For example, I assume that the list of software you frequently use is different from mine.)\n",
    "\n",
    "In the `first.txt` script, we use tmux. Because with tmux, we don’t need to set up sinteractive node after every incidental disconnection. We just run the second.txt and resume our analysis. It saves a lot of time when we are working wirelessly or remotely."
   ]
  },
  {
   "cell_type": "markdown",
   "metadata": {},
   "source": [
    "---"
   ]
  },
  {
   "cell_type": "markdown",
   "metadata": {},
   "source": [
    "# 2. Quick and Dirty Method to Incorporate Python, Bash and R in one Notebook\n",
    "\n",
    "## Bash\n",
    "\n",
    "### Things to Keep in Mind:\n",
    "- The beginning of the chunk needs to start with `%%bash`\n",
    "- You can make variables and arrays like you normally would, but everything is contained in the chunk and will not transfer over\n",
    "- You can save output from a bash scrip to use in a Python chunk later using (!)"
   ]
  },
  {
   "cell_type": "code",
   "execution_count": 1,
   "metadata": {},
   "outputs": [
    {
     "name": "stdout",
     "output_type": "stream",
     "text": [
      "2\n",
      "Processing chromosome 1\n",
      "Processing chromosome 2\n",
      "Processing chromosome 3\n",
      "Processing chromosome 4\n",
      "Processing chromosome 5\n",
      "Processing chromosome 6\n",
      "Processing chromosome 7\n",
      "Processing chromosome 8\n",
      "Processing chromosome 9\n",
      "Processing chromosome 10\n",
      "Processing chromosome 11\n",
      "Processing chromosome 12\n",
      "Processing chromosome 13\n",
      "Processing chromosome 14\n",
      "Processing chromosome 15\n",
      "Processing chromosome 16\n",
      "Processing chromosome 17\n",
      "Processing chromosome 18\n",
      "Processing chromosome 19\n",
      "Processing chromosome 20\n",
      "Processing chromosome 21\n",
      "Processing chromosome 22\n"
     ]
    }
   ],
   "source": [
    "%%bash\n",
    "\n",
    "# You can assign variables\n",
    "VAR1=2 \n",
    "echo \"${VAR1}\"\n",
    "\n",
    "# You can also perform loops \n",
    "for chromosome in {1..22}\n",
    "do\n",
    "    echo \"Processing chromosome \"$chromosome\n",
    "    # your script here\n",
    "done"
   ]
  },
  {
   "cell_type": "code",
   "execution_count": 2,
   "metadata": {},
   "outputs": [
    {
     "name": "stdout",
     "output_type": "stream",
     "text": [
      "x is 1\n",
      "['Yes']\n"
     ]
    }
   ],
   "source": [
    "# You can mix and match Python and bash\n",
    "x = 1\n",
    "if x is not 1:\n",
    "    print('x is not 1')\n",
    "else:\n",
    "    print('x is 1')\n",
    "\n",
    "# You can read in input from the terminal to use in Python\n",
    "# Using !, you can incorporate the results from Terminal into your Python scripts\n",
    "y = !echo \"Yes\"\n",
    "print(y)"
   ]
  },
  {
   "cell_type": "markdown",
   "metadata": {},
   "source": [
    "---"
   ]
  },
  {
   "cell_type": "markdown",
   "metadata": {},
   "source": [
    "# 3. Comparisons between Common R Functions and How to Get Started in Python\n",
    "\n",
    "## R vs. Python\n",
    "\n",
    "### Things to Keep in Mind:\n",
    "- You can have a whole notebook run R (instead of Python)\n",
    "- You can run R within a Python notebook like below\n",
    "- Whatever you can do in R, you can do in Python (but better and faster) \n",
    "- Python starts at 0, where R starts at 1\n",
    "- Tabs/Indentation/Whitespace is important in Python"
   ]
  },
  {
   "cell_type": "markdown",
   "metadata": {},
   "source": [
    "### R vs. Python: Managing Data "
   ]
  },
  {
   "cell_type": "code",
   "execution_count": 3,
   "metadata": {},
   "outputs": [
    {
     "name": "stdout",
     "output_type": "stream",
     "text": [
      "       V1 V2 V3 V4 V5 V6\n",
      "1: HCB181  1  0  0  1  1\n",
      "2: HCB182  1  0  0  1  1\n",
      "3: HCB183  1  0  0  1  2\n",
      "4: HCB184  1  0  0  1  1\n",
      "5: HCB185  1  0  0  1  1\n",
      "6: HCB186  1  0  0  1  1\n",
      "[1] 89  6\n",
      "      FID IID PAT MAT SEX PHENOTYPE\n",
      "1: HCB181   1   0   0   1         1\n",
      "2: HCB182   1   0   0   1         1\n",
      "3: HCB183   1   0   0   1         2\n",
      "4: HCB184   1   0   0   1         1\n",
      "5: HCB185   1   0   0   1         1\n",
      "6: HCB186   1   0   0   1         1\n",
      "      FID IID PAT MAT SEX PHENOTYPE CASE_OR_CONTROL\n",
      "1: HCB181   1   0   0   1         1         CONTROL\n",
      "2: HCB182   1   0   0   1         1         CONTROL\n",
      "3: HCB183   1   0   0   1         2            CASE\n",
      "4: HCB184   1   0   0   1         1         CONTROL\n",
      "5: HCB185   1   0   0   1         1         CONTROL\n",
      "6: HCB186   1   0   0   1         1         CONTROL\n",
      "     FID IID PAT MAT SEX PHENOTYPE CASE_OR_CONTROL\n",
      "1 HCB183   1   0   0   1         2            CASE\n",
      "2 HCB191   1   0   0   1         2            CASE\n",
      "3 HCB201   1   0   0   1         2            CASE\n",
      "4 HCB207   1   0   0   1         2            CASE\n",
      "5 HCB210   1   0   0   1         2            CASE\n",
      "6 HCB211   1   0   0   1         2            CASE\n",
      "[1] 44  7\n"
     ]
    }
   ],
   "source": [
    "%%bash\n",
    "# Managing data in R with tidyverse and data.table\n",
    "R --slave --vanilla # options for running R\n",
    "\n",
    "# Load the necessary packages \n",
    "suppressMessages(library('tidyverse'))\n",
    "suppressMessages(library('data.table'))\n",
    "\n",
    "# Read in the .fam file (from example PLINK data)\n",
    "fam <- fread(\"hapmap1.fam\", header = FALSE)\n",
    "\n",
    "# See the first few lines \n",
    "head(fam)\n",
    "\n",
    "# Get the dimensions of the dataset\n",
    "dim(fam)\n",
    "\n",
    "# Add column names to the dataset\n",
    "colnames(fam)<- c(\"FID\", \"IID\", \"PAT\", \"MAT\", \"SEX\", \"PHENO\")\n",
    "\n",
    "# Change a column name \n",
    "fam_rename <- fam %>% rename(\"PHENOTYPE\" = \"PHENO\") # Can be done in place\n",
    "head(fam_rename)\n",
    "\n",
    "# Make a new column (print out if case or control)\n",
    "fam_rename$CASE_OR_CONTROL <- ifelse(fam_rename$PHENOTYPE == 1, \"CONTROL\", \"CASE\")\n",
    "head(fam_rename)\n",
    "\n",
    "# Subset the data\n",
    "fam_cases = fam_rename %>% filter(CASE_OR_CONTROL == \"CASE\")\n",
    "head(fam_cases)\n",
    "dim(fam_cases)\n",
    "\n",
    "# Write out the file \n",
    "write.table(fam_cases, file = \"updated_fam_file_R.csv\", col.names=FALSE, row.names=FALSE, na=\"\", quote=FALSE, sep=\"\\t\")"
   ]
  },
  {
   "cell_type": "code",
   "execution_count": 5,
   "metadata": {},
   "outputs": [
    {
     "data": {
      "text/html": [
       "<div>\n",
       "<style scoped>\n",
       "    .dataframe tbody tr th:only-of-type {\n",
       "        vertical-align: middle;\n",
       "    }\n",
       "\n",
       "    .dataframe tbody tr th {\n",
       "        vertical-align: top;\n",
       "    }\n",
       "\n",
       "    .dataframe thead th {\n",
       "        text-align: right;\n",
       "    }\n",
       "</style>\n",
       "<table border=\"1\" class=\"dataframe\">\n",
       "  <thead>\n",
       "    <tr style=\"text-align: right;\">\n",
       "      <th></th>\n",
       "      <th>0</th>\n",
       "      <th>1</th>\n",
       "      <th>2</th>\n",
       "      <th>3</th>\n",
       "      <th>4</th>\n",
       "      <th>5</th>\n",
       "    </tr>\n",
       "  </thead>\n",
       "  <tbody>\n",
       "    <tr>\n",
       "      <th>0</th>\n",
       "      <td>HCB181</td>\n",
       "      <td>1</td>\n",
       "      <td>0</td>\n",
       "      <td>0</td>\n",
       "      <td>1</td>\n",
       "      <td>1</td>\n",
       "    </tr>\n",
       "    <tr>\n",
       "      <th>1</th>\n",
       "      <td>HCB182</td>\n",
       "      <td>1</td>\n",
       "      <td>0</td>\n",
       "      <td>0</td>\n",
       "      <td>1</td>\n",
       "      <td>1</td>\n",
       "    </tr>\n",
       "    <tr>\n",
       "      <th>2</th>\n",
       "      <td>HCB183</td>\n",
       "      <td>1</td>\n",
       "      <td>0</td>\n",
       "      <td>0</td>\n",
       "      <td>1</td>\n",
       "      <td>2</td>\n",
       "    </tr>\n",
       "    <tr>\n",
       "      <th>3</th>\n",
       "      <td>HCB184</td>\n",
       "      <td>1</td>\n",
       "      <td>0</td>\n",
       "      <td>0</td>\n",
       "      <td>1</td>\n",
       "      <td>1</td>\n",
       "    </tr>\n",
       "    <tr>\n",
       "      <th>4</th>\n",
       "      <td>HCB185</td>\n",
       "      <td>1</td>\n",
       "      <td>0</td>\n",
       "      <td>0</td>\n",
       "      <td>1</td>\n",
       "      <td>1</td>\n",
       "    </tr>\n",
       "  </tbody>\n",
       "</table>\n",
       "</div>"
      ],
      "text/plain": [
       "        0  1  2  3  4  5\n",
       "0  HCB181  1  0  0  1  1\n",
       "1  HCB182  1  0  0  1  1\n",
       "2  HCB183  1  0  0  1  2\n",
       "3  HCB184  1  0  0  1  1\n",
       "4  HCB185  1  0  0  1  1"
      ]
     },
     "execution_count": 5,
     "metadata": {},
     "output_type": "execute_result"
    },
    {
     "data": {
      "text/plain": [
       "(89, 6)"
      ]
     },
     "execution_count": 5,
     "metadata": {},
     "output_type": "execute_result"
    },
    {
     "data": {
      "text/html": [
       "<div>\n",
       "<style scoped>\n",
       "    .dataframe tbody tr th:only-of-type {\n",
       "        vertical-align: middle;\n",
       "    }\n",
       "\n",
       "    .dataframe tbody tr th {\n",
       "        vertical-align: top;\n",
       "    }\n",
       "\n",
       "    .dataframe thead th {\n",
       "        text-align: right;\n",
       "    }\n",
       "</style>\n",
       "<table border=\"1\" class=\"dataframe\">\n",
       "  <thead>\n",
       "    <tr style=\"text-align: right;\">\n",
       "      <th></th>\n",
       "      <th>FID</th>\n",
       "      <th>IID</th>\n",
       "      <th>PAT</th>\n",
       "      <th>MAT</th>\n",
       "      <th>SEX</th>\n",
       "      <th>PHENOTYPE</th>\n",
       "    </tr>\n",
       "  </thead>\n",
       "  <tbody>\n",
       "    <tr>\n",
       "      <th>0</th>\n",
       "      <td>HCB181</td>\n",
       "      <td>1</td>\n",
       "      <td>0</td>\n",
       "      <td>0</td>\n",
       "      <td>1</td>\n",
       "      <td>1</td>\n",
       "    </tr>\n",
       "    <tr>\n",
       "      <th>1</th>\n",
       "      <td>HCB182</td>\n",
       "      <td>1</td>\n",
       "      <td>0</td>\n",
       "      <td>0</td>\n",
       "      <td>1</td>\n",
       "      <td>1</td>\n",
       "    </tr>\n",
       "    <tr>\n",
       "      <th>2</th>\n",
       "      <td>HCB183</td>\n",
       "      <td>1</td>\n",
       "      <td>0</td>\n",
       "      <td>0</td>\n",
       "      <td>1</td>\n",
       "      <td>2</td>\n",
       "    </tr>\n",
       "    <tr>\n",
       "      <th>3</th>\n",
       "      <td>HCB184</td>\n",
       "      <td>1</td>\n",
       "      <td>0</td>\n",
       "      <td>0</td>\n",
       "      <td>1</td>\n",
       "      <td>1</td>\n",
       "    </tr>\n",
       "    <tr>\n",
       "      <th>4</th>\n",
       "      <td>HCB185</td>\n",
       "      <td>1</td>\n",
       "      <td>0</td>\n",
       "      <td>0</td>\n",
       "      <td>1</td>\n",
       "      <td>1</td>\n",
       "    </tr>\n",
       "  </tbody>\n",
       "</table>\n",
       "</div>"
      ],
      "text/plain": [
       "      FID  IID  PAT  MAT  SEX  PHENOTYPE\n",
       "0  HCB181    1    0    0    1          1\n",
       "1  HCB182    1    0    0    1          1\n",
       "2  HCB183    1    0    0    1          2\n",
       "3  HCB184    1    0    0    1          1\n",
       "4  HCB185    1    0    0    1          1"
      ]
     },
     "execution_count": 5,
     "metadata": {},
     "output_type": "execute_result"
    },
    {
     "data": {
      "text/html": [
       "<div>\n",
       "<style scoped>\n",
       "    .dataframe tbody tr th:only-of-type {\n",
       "        vertical-align: middle;\n",
       "    }\n",
       "\n",
       "    .dataframe tbody tr th {\n",
       "        vertical-align: top;\n",
       "    }\n",
       "\n",
       "    .dataframe thead th {\n",
       "        text-align: right;\n",
       "    }\n",
       "</style>\n",
       "<table border=\"1\" class=\"dataframe\">\n",
       "  <thead>\n",
       "    <tr style=\"text-align: right;\">\n",
       "      <th></th>\n",
       "      <th>FID</th>\n",
       "      <th>IID</th>\n",
       "      <th>PAT</th>\n",
       "      <th>MAT</th>\n",
       "      <th>SEX</th>\n",
       "      <th>PHENOTYPE</th>\n",
       "      <th>CASE_OR_CONTROL</th>\n",
       "    </tr>\n",
       "  </thead>\n",
       "  <tbody>\n",
       "    <tr>\n",
       "      <th>0</th>\n",
       "      <td>HCB181</td>\n",
       "      <td>1</td>\n",
       "      <td>0</td>\n",
       "      <td>0</td>\n",
       "      <td>1</td>\n",
       "      <td>1</td>\n",
       "      <td>CONTROL</td>\n",
       "    </tr>\n",
       "    <tr>\n",
       "      <th>1</th>\n",
       "      <td>HCB182</td>\n",
       "      <td>1</td>\n",
       "      <td>0</td>\n",
       "      <td>0</td>\n",
       "      <td>1</td>\n",
       "      <td>1</td>\n",
       "      <td>CONTROL</td>\n",
       "    </tr>\n",
       "    <tr>\n",
       "      <th>2</th>\n",
       "      <td>HCB183</td>\n",
       "      <td>1</td>\n",
       "      <td>0</td>\n",
       "      <td>0</td>\n",
       "      <td>1</td>\n",
       "      <td>2</td>\n",
       "      <td>CASE</td>\n",
       "    </tr>\n",
       "    <tr>\n",
       "      <th>3</th>\n",
       "      <td>HCB184</td>\n",
       "      <td>1</td>\n",
       "      <td>0</td>\n",
       "      <td>0</td>\n",
       "      <td>1</td>\n",
       "      <td>1</td>\n",
       "      <td>CONTROL</td>\n",
       "    </tr>\n",
       "    <tr>\n",
       "      <th>4</th>\n",
       "      <td>HCB185</td>\n",
       "      <td>1</td>\n",
       "      <td>0</td>\n",
       "      <td>0</td>\n",
       "      <td>1</td>\n",
       "      <td>1</td>\n",
       "      <td>CONTROL</td>\n",
       "    </tr>\n",
       "  </tbody>\n",
       "</table>\n",
       "</div>"
      ],
      "text/plain": [
       "      FID  IID  PAT  MAT  SEX  PHENOTYPE CASE_OR_CONTROL\n",
       "0  HCB181    1    0    0    1          1         CONTROL\n",
       "1  HCB182    1    0    0    1          1         CONTROL\n",
       "2  HCB183    1    0    0    1          2            CASE\n",
       "3  HCB184    1    0    0    1          1         CONTROL\n",
       "4  HCB185    1    0    0    1          1         CONTROL"
      ]
     },
     "execution_count": 5,
     "metadata": {},
     "output_type": "execute_result"
    },
    {
     "data": {
      "text/plain": [
       "(44, 7)"
      ]
     },
     "execution_count": 5,
     "metadata": {},
     "output_type": "execute_result"
    },
    {
     "data": {
      "text/html": [
       "<div>\n",
       "<style scoped>\n",
       "    .dataframe tbody tr th:only-of-type {\n",
       "        vertical-align: middle;\n",
       "    }\n",
       "\n",
       "    .dataframe tbody tr th {\n",
       "        vertical-align: top;\n",
       "    }\n",
       "\n",
       "    .dataframe thead th {\n",
       "        text-align: right;\n",
       "    }\n",
       "</style>\n",
       "<table border=\"1\" class=\"dataframe\">\n",
       "  <thead>\n",
       "    <tr style=\"text-align: right;\">\n",
       "      <th></th>\n",
       "      <th>FID</th>\n",
       "      <th>IID</th>\n",
       "      <th>PAT</th>\n",
       "      <th>MAT</th>\n",
       "      <th>SEX</th>\n",
       "      <th>PHENOTYPE</th>\n",
       "      <th>CASE_OR_CONTROL</th>\n",
       "    </tr>\n",
       "  </thead>\n",
       "  <tbody>\n",
       "    <tr>\n",
       "      <th>2</th>\n",
       "      <td>HCB183</td>\n",
       "      <td>1</td>\n",
       "      <td>0</td>\n",
       "      <td>0</td>\n",
       "      <td>1</td>\n",
       "      <td>2</td>\n",
       "      <td>CASE</td>\n",
       "    </tr>\n",
       "    <tr>\n",
       "      <th>10</th>\n",
       "      <td>HCB191</td>\n",
       "      <td>1</td>\n",
       "      <td>0</td>\n",
       "      <td>0</td>\n",
       "      <td>1</td>\n",
       "      <td>2</td>\n",
       "      <td>CASE</td>\n",
       "    </tr>\n",
       "    <tr>\n",
       "      <th>20</th>\n",
       "      <td>HCB201</td>\n",
       "      <td>1</td>\n",
       "      <td>0</td>\n",
       "      <td>0</td>\n",
       "      <td>1</td>\n",
       "      <td>2</td>\n",
       "      <td>CASE</td>\n",
       "    </tr>\n",
       "    <tr>\n",
       "      <th>26</th>\n",
       "      <td>HCB207</td>\n",
       "      <td>1</td>\n",
       "      <td>0</td>\n",
       "      <td>0</td>\n",
       "      <td>1</td>\n",
       "      <td>2</td>\n",
       "      <td>CASE</td>\n",
       "    </tr>\n",
       "    <tr>\n",
       "      <th>29</th>\n",
       "      <td>HCB210</td>\n",
       "      <td>1</td>\n",
       "      <td>0</td>\n",
       "      <td>0</td>\n",
       "      <td>1</td>\n",
       "      <td>2</td>\n",
       "      <td>CASE</td>\n",
       "    </tr>\n",
       "  </tbody>\n",
       "</table>\n",
       "</div>"
      ],
      "text/plain": [
       "       FID  IID  PAT  MAT  SEX  PHENOTYPE CASE_OR_CONTROL\n",
       "2   HCB183    1    0    0    1          2            CASE\n",
       "10  HCB191    1    0    0    1          2            CASE\n",
       "20  HCB201    1    0    0    1          2            CASE\n",
       "26  HCB207    1    0    0    1          2            CASE\n",
       "29  HCB210    1    0    0    1          2            CASE"
      ]
     },
     "execution_count": 5,
     "metadata": {},
     "output_type": "execute_result"
    }
   ],
   "source": [
    "# Managing data in Python with pandas \n",
    "\n",
    "# OPTIONAL: This is to show all outputs, and not only the last result (which is Jupyter's default)\n",
    "from IPython.core.interactiveshell import InteractiveShell\n",
    "InteractiveShell.ast_node_interactivity = \"all\"\n",
    "\n",
    "# Load the necessary packages \n",
    "import pandas as pd \n",
    "import numpy as np\n",
    "\n",
    "# Read in the .fam file (from example PLINK data)\n",
    "fam = pd.read_csv(\"hapmap1.fam\", sep=\" \", header=None)\n",
    "\n",
    "# See the first few lines \n",
    "fam.head()\n",
    "\n",
    "# Get the dimensions of the dataset\n",
    "fam.shape\n",
    "\n",
    "# Add column names to the dataset\n",
    "fam.columns = [\"FID\", \"IID\", \"PAT\", \"MAT\", \"SEX\", \"PHENO\"]\n",
    "\n",
    "# Change a column name \n",
    "fam_rename = fam.rename({'PHENO': 'PHENOTYPE'}, axis=1) #Can be done in place with inplace=True\n",
    "fam_rename.head()\n",
    "\n",
    "# Make a new column (print out if case or control)\n",
    "fam_rename['CASE_OR_CONTROL'] = np.where(fam_rename['PHENOTYPE']== 1, 'CONTROL', 'CASE')\n",
    "fam_rename.head()\n",
    "\n",
    "# Subset the data \n",
    "fam_cases = fam_rename[(fam_rename.CASE_OR_CONTROL == \"CASE\")]\n",
    "fam_cases.shape\n",
    "fam_cases.head()\n",
    "\n",
    "# Write out the file \n",
    "fam_cases.to_csv (\"updated_fam_file_Python.csv\", index=None, header=None)"
   ]
  },
  {
   "cell_type": "markdown",
   "metadata": {},
   "source": [
    "### R vs. Python: Creating Loops and Functions"
   ]
  },
  {
   "cell_type": "code",
   "execution_count": 6,
   "metadata": {},
   "outputs": [
    {
     "name": "stdout",
     "output_type": "stream",
     "text": [
      "[1] 3\n"
     ]
    }
   ],
   "source": [
    "%%bash\n",
    "# Creating loops and functions in R \n",
    "R --slave --vanilla # options for running R\n",
    "\n",
    "x <- c(2,5,3,9,8,11,6)\n",
    "\n",
    "# For loop\n",
    "count <- 0\n",
    "for (value in x) {\n",
    "    if(value %% 2 == 0)\n",
    "    count = count+1\n",
    "}\n",
    "print(count)"
   ]
  },
  {
   "cell_type": "code",
   "execution_count": 7,
   "metadata": {},
   "outputs": [
    {
     "name": "stdout",
     "output_type": "stream",
     "text": [
      "3\n"
     ]
    }
   ],
   "source": [
    "# Creating loops in Python \n",
    "\n",
    "x = np.array([2,5,3,9,8,11,6])\n",
    "count = 0\n",
    "\n",
    "for value in x:\n",
    "    if(value % 2 == 0):\n",
    "        count += 1\n",
    "\n",
    "print(count)"
   ]
  },
  {
   "cell_type": "markdown",
   "metadata": {},
   "source": [
    "### R vs. Python: Plotting"
   ]
  },
  {
   "cell_type": "code",
   "execution_count": 8,
   "metadata": {},
   "outputs": [
    {
     "name": "stdout",
     "output_type": "stream",
     "text": [
      "[1] \"Read in pca.eigenvec and pca.eigenval files from PLINK\"\n",
      "[1] \"Update the column names\"\n",
      "[1] \"Generate the Scree plot\"\n",
      "[1] \"Save out the plot\"\n"
     ]
    }
   ],
   "source": [
    "%%bash\n",
    "# This script is how to generate a Scree plot using the ggplot package in R \n",
    "R --slave --vanilla # options for running R\n",
    "\n",
    "# Load the necessary packages \n",
    "suppressMessages(library('tidyverse'))\n",
    "suppressMessages(library('ggplot2'))\n",
    "suppressMessages(library('data.table'))\n",
    "\n",
    "# Read in the PCA Eigenvalues and Eigenvectors \n",
    "print(\"Read in pca.eigenval file from PLINK\")\n",
    "eigenval <- fread(\"pcaCovs_LBD.eigenval\", header = FALSE)\n",
    "\n",
    "# Update column names\n",
    "print(\"Update the column names\")\n",
    "colnames(eigenval)[1] <- \"Eigenvalues\"\n",
    "eigenval$PC <- as.numeric(rownames(eigenval))\n",
    "eigenval$VarianceExplained <- eigenval$Eigenvalues/sum(eigenval$Eigenvalues)*100\n",
    "eigenval2 <- head(eigenval,10)\n",
    "\n",
    "print(\"Generate the Scree plot\")\n",
    "scree <- ggplot(data = eigenval2, aes(x = PC, y = VarianceExplained)) +\n",
    "  geom_line() + \n",
    "  geom_point() +\n",
    "  theme_bw() +\n",
    "  theme(panel.grid.minor = element_blank()) + \n",
    "  scale_x_continuous(name = \"Principal Components\", breaks = seq(0,10,1), limits = c(NA,10)) +\n",
    "  scale_y_continuous(name = \"Percent (%) Variance Explained\", breaks = seq(0,50,5), limits = c(0,50)) +\n",
    "  ggtitle(\"Scree Plot: \\n LBD GWAS \\n (1,046 Cases; 34,571 Controls)\") +\n",
    "  theme(plot.title = element_text(hjust = 0.5, face = \"bold\"))\n",
    "\n",
    "print(\"Save out the plot\")\n",
    "ggsave(\"ScreePlot_LBD_GWAS_R.jpg\", scree, width = 5, height = 3.5, units = \"in\")"
   ]
  },
  {
   "cell_type": "code",
   "execution_count": 9,
   "metadata": {},
   "outputs": [
    {
     "data": {
      "image/jpeg": "[encoded data removed]",
      "text/plain": [
       "<IPython.core.display.Image object>"
      ]
     },
     "execution_count": 9,
     "metadata": {},
     "output_type": "execute_result"
    }
   ],
   "source": [
    "# To display the image made in the R script above\n",
    "from IPython.display import Image\n",
    "Image(filename=\"ScreePlot_LBD_GWAS_R.jpg\") "
   ]
  },
  {
   "cell_type": "code",
   "execution_count": 10,
   "metadata": {},
   "outputs": [
    {
     "name": "stdout",
     "output_type": "stream",
     "text": [
      "Read in pca.eigenvec and pca.eigenval files from PLINK\n",
      "Update the column names\n",
      "Generate the Scree plot\n"
     ]
    },
    {
     "data": {
      "text/plain": [
       "Text(0.5, 1.0, 'Scree Plot: \\n LBD GWAS \\n (1,046 Cases; 34,571 Controls)')"
      ]
     },
     "execution_count": 10,
     "metadata": {},
     "output_type": "execute_result"
    },
    {
     "data": {
      "text/plain": [
       "Text(0, 0.5, 'Percent (%) Variance Explained')"
      ]
     },
     "execution_count": 10,
     "metadata": {},
     "output_type": "execute_result"
    },
    {
     "data": {
      "text/plain": [
       "Text(0.5, 0, 'Principal Components')"
      ]
     },
     "execution_count": 10,
     "metadata": {},
     "output_type": "execute_result"
    },
    {
     "data": {
      "text/plain": [
       "(1, 50)"
      ]
     },
     "execution_count": 10,
     "metadata": {},
     "output_type": "execute_result"
    },
    {
     "data": {
      "image/png": "[encoded data removed]",
      "text/plain": [
       "<Figure size 842.4x595.44 with 1 Axes>"
      ]
     },
     "metadata": {},
     "output_type": "display_data"
    }
   ],
   "source": [
    "# This script is how to generate the same Scree plot using the seaborn package in Python\n",
    "\n",
    "# Load the necessary packages \n",
    "import seaborn as sns\n",
    "import pandas as pd \n",
    "import matplotlib.pyplot as plt\n",
    "%matplotlib inline\n",
    "\n",
    "# Read in the PCA Eigenvalues and Eigenvectors \n",
    "print(\"Read in pca.eigenval file from PLINK\")\n",
    "eigenval = pd.read_csv(\"pcaCovs_LBD.eigenval\", header = None)\n",
    "\n",
    "# Update column names\n",
    "print(\"Update the column names\")\n",
    "eigenval.columns = ['Eigenvalues']\n",
    "eigenval['PC'] = np.arange(1, len(eigenval) + 1)\n",
    "eigenval['VarianceExplained'] = eigenval['Eigenvalues']/eigenval.Eigenvalues.sum()*100\n",
    "\n",
    "eigenval2 = eigenval.head(10)\n",
    "\n",
    "print(\"Generate the Scree plot\")\n",
    "#plt.style.use('ggplot') \n",
    "\n",
    "# Stylistic Plot Requirements  \n",
    "sns.set_context(\"poster\") # Many other options, this works well within Jupyter\n",
    "sns.set_style(\"whitegrid\")\n",
    "sns.set(rc={'figure.figsize':(11.7,8.27)}, font_scale=3)\n",
    "\n",
    "# Plotting the plot\n",
    "scree = sns.pointplot(x = \"PC\", y = \"VarianceExplained\", data = eigenval2)\n",
    "scree.set_title('Scree Plot: \\n LBD GWAS \\n (1,046 Cases; 34,571 Controls)')\n",
    "scree.set_ylabel('Percent (%) Variance Explained')\n",
    "scree.set_xlabel('Principal Components') \n",
    "plt.ylim(1, 50) # Force the y-axis scale \n",
    "\n",
    "# Save out the figure\n",
    "scree.figure.savefig(\"ScreePlot_LBD_GWAS_Python.jpg\")"
   ]
  },
  {
   "cell_type": "markdown",
   "metadata": {},
   "source": [
    "---"
   ]
  },
  {
   "cell_type": "markdown",
   "metadata": {},
   "source": [
    "# 4. Basic Job Control and Parameter Tuning for Swarm Jobs\n",
    "\n",
    "## Biowulf Modules and Swarm Submissions\n",
    "\n",
    "- User Dashboard: [LINK](https://auth.nih.gov/CertAuthV2/forms/NIHPivOrFormLogin.aspx?TYPE=33554433&REALMOID=06-effe824d-683e-408e-962c-86fed36d3317&GUID=&SMAUTHREASON=0&METHOD=GET&SMAGENTNAME=-SM-aKmoe5cvpd5WMc7bZS8DqazGggT0l50j5WjH2pgUXDKXvzHEQOnbTYJNejNHZ%2bzw&TARGET=-SM-https%3a%2f%2fhpc%2enih%2egov%2fdashboard%2f#)\n",
    "\n",
    "### Things to Keep in Mind:\n",
    "- You can load modules like you would in Biowulf, but they are limited to the chunk you are using unless they were specified in your `first.txt` script (output is saved in Notebook)\n"
   ]
  },
  {
   "cell_type": "code",
   "execution_count": 11,
   "metadata": {},
   "outputs": [
    {
     "name": "stdout",
     "output_type": "stream",
     "text": [
      "PLINK v1.90b4.4 64-bit (21 May 2017)           www.cog-genomics.org/plink/1.9/\n",
      "(C) 2005-2017 Shaun Purcell, Christopher Chang   GNU General Public License v3\n",
      "Logging to hapmap1_CR.log.\n",
      "Options in effect:\n",
      "  --bfile hapmap1\n",
      "  --make-bed\n",
      "  --mind 0.1\n",
      "  --out hapmap1_CR\n",
      "\n",
      "257652 MB RAM detected; reserving 128826 MB for main workspace.\n",
      "83534 variants loaded from .bim file.\n",
      "89 people (89 males, 0 females) loaded from .fam.\n",
      "89 phenotype values loaded from .fam.\n",
      "0 people removed due to missing genotype data (--mind).\n",
      "Using 1 thread (no multithreaded calculations invoked).\n",
      "Before main variant filters, 89 founders and 0 nonfounders present.\n",
      "Calculating allele frequencies... 10111213141516171819202122232425262728293031323334353637383940414243444546474849505152535455565758596061626364656667686970717273747576777879808182838485868788899091929394959697989 done.\n",
      "Total genotyping rate is 0.99441.\n",
      "83534 variants and 89 people pass filters and QC.\n",
      "Among remaining phenotypes, 44 are cases and 45 are controls.\n",
      "--make-bed to hapmap1_CR.bed + hapmap1_CR.bim + hapmap1_CR.fam ... 101112131415161718192021222324252627282930313233343536373839404142434445464748495051525354555657585960616263646566676869707172737475767778798081828384858687888990919293949596979899done.\n"
     ]
    },
    {
     "name": "stderr",
     "output_type": "stream",
     "text": [
      "[+] Loading plink  1.9.0-beta4.4  on cn3190 \n"
     ]
    }
   ],
   "source": [
    "%%bash\n",
    "\n",
    "# Load the necessary modules \n",
    "module load plink\n",
    "\n",
    "# For example, you can run basic QC within Jupyter\n",
    "# For example, call rate \n",
    "plink --bfile hapmap1 --mind 0.1 --make-bed --out hapmap1_CR "
   ]
  },
  {
   "cell_type": "markdown",
   "metadata": {},
   "source": [
    "Let's say for example you want to extract each chromosome out to binary files to use later \n",
    "\n",
    "You can do this by\n",
    "- One by one\n",
    "- In a loop \n",
    "- Running an external script\n",
    "- In a swarm \n",
    "\n",
    "Since we have already discussed loops, I will now discuss running an external script"
   ]
  },
  {
   "cell_type": "markdown",
   "metadata": {},
   "source": [
    "Say that the external script `subset_by_chr.sh` looks like this...\n",
    "\n",
    "```bash\n",
    "#!/bin/env bash\n",
    "\n",
    "mkdir PLINK_SUBSET\n",
    "\n",
    "module load plink \n",
    "\n",
    "for chromosome in {1..22};\n",
    "do\n",
    "    plink --bfile hapmap1_CR --chr ${chromosome} --make-bed --out ./PLINK_SUBSET/CHR${chromosome}_hapmap1_CR \n",
    "done\n",
    "```\n",
    "\n",
    "You can run it using the following..."
   ]
  },
  {
   "cell_type": "code",
   "execution_count": 12,
   "metadata": {},
   "outputs": [],
   "source": [
    "%%capture \n",
    "%%bash \n",
    "\n",
    "# %%capture at the top is to hide output of the cell in case it is really long\n",
    "\n",
    "# Run the script\n",
    "sh subset_by_chr.sh"
   ]
  },
  {
   "cell_type": "markdown",
   "metadata": {},
   "source": [
    "You can also prepare to submit a swarm within Jupyter like the following...\n",
    "\n",
    "One way is to write a bash script for-looping each chromosome and submit them with sbatch. \n",
    "However, using swarm is better because it is more efficient, tracable and controllable. \n",
    "\n",
    "I especially like that with swarm, you can explicitly use two cpus on one core, which is twice more efficient! Let's create a swarm file for generating chr1-22."
   ]
  },
  {
   "cell_type": "code",
   "execution_count": 14,
   "metadata": {},
   "outputs": [
    {
     "name": "stdout",
     "output_type": "stream",
     "text": [
      "chromosome 1 done\n",
      "chromosome 2 done\n",
      "chromosome 3 done\n",
      "chromosome 4 done\n",
      "chromosome 5 done\n",
      "chromosome 6 done\n",
      "chromosome 7 done\n",
      "chromosome 8 done\n",
      "chromosome 9 done\n",
      "chromosome 10 done\n",
      "chromosome 11 done\n",
      "chromosome 12 done\n",
      "chromosome 13 done\n",
      "chromosome 14 done\n",
      "chromosome 15 done\n",
      "chromosome 16 done\n",
      "chromosome 17 done\n",
      "chromosome 18 done\n",
      "chromosome 19 done\n",
      "chromosome 20 done\n",
      "chromosome 21 done\n",
      "chromosome 22 done\n"
     ]
    }
   ],
   "source": [
    "# OPTIONAL: This is to show just the last result\n",
    "from IPython.core.interactiveshell import InteractiveShell\n",
    "InteractiveShell.ast_node_interactivity = \"none\"\n",
    "\n",
    "binary = 'hapmap1_CR'\n",
    "script = \"\"\"\n",
    "    plink --bfile {binary} --chr {chromosome} --make-bed --out ./PLINK_SUBSET/CHR{chromosome}_{binary}\"\"\"\n",
    "\n",
    "with open ('subset_by_chr.swarm', 'w') as f:\n",
    "    for chromosome in range(1,23):\n",
    "        f_out = 'chromosome '+str(chromosome)\n",
    "        f.write(script.format(binary = binary, chromosome = chromosome, \n",
    "                              f_out = f_out))\n",
    "        print(f_out, 'done')"
   ]
  },
  {
   "cell_type": "markdown",
   "metadata": {},
   "source": [
    "### Submit a swarm job\n",
    "Before actually submitting a swarm job, it is always good to check how it would go with *--devel* option"
   ]
  },
  {
   "cell_type": "code",
   "execution_count": 15,
   "metadata": {},
   "outputs": [
    {
     "name": "stdout",
     "output_type": "stream",
     "text": [
      "Loading modules plink\n",
      "22 commands run in 22 subjobs, each command requiring 1.5 gb and 1 thread, allocating 22 cores and 44 cpus\n",
      "sbatch --array=0-21 --job-name=swarm --output=/gpfs/gsfs9/users/LNG/makariousmb/Jupyter_Workshop/swarm_%A_%a.o --error=/gpfs/gsfs9/users/LNG/makariousmb/Jupyter_Workshop/swarm_%A_%a.e --cpus-per-task=1 --mem=1536 --partition=norm --time=02:00:00 /spin1/swarm/makariousmb/ARuPjdZ9MO/swarm.batch\n"
     ]
    }
   ],
   "source": [
    "!swarm -f subset_by_chr.swarm --module plink --devel"
   ]
  },
  {
   "cell_type": "markdown",
   "metadata": {},
   "source": [
    "+++**IMPORTANT**+++\n",
    "\n",
    "To decide parameters, please go to [User Dashboard](https://hpc.nih.gov/dashboard/). It seems that the above command only takes <100M memory, 1 cpu, and 2min. The job scheduling priority is determined by your past CPU usage (**sum of CPUxTIME**) with a half life of 2 weeks. Setting parsimoneous parameters is important to get the job done!\n",
    "\n",
    "\n",
    "So I set the parameters as, \n",
    "\n",
    "1. 2G memory will be more than enough: -g 2\n",
    "2. Use both cpus for a core : -p 2\n",
    "3. Give 1 min per job: --time '00:01:00'\n",
    "4. Bundle 2 subjobs so that each subjob works more than 5 min (for scheduling efficiency): -b 6\n",
    "5. Designate the output folder \"PLINK_SUBSET\"\n",
    "6. Submit job to \"quick\" node since the running time for the job won't exceed 4 hours"
   ]
  },
  {
   "cell_type": "markdown",
   "metadata": {},
   "source": [
    "**Looks Good?**\n",
    "\n",
    "Now submit the job by taking away *--devel*"
   ]
  },
  {
   "cell_type": "code",
   "execution_count": 16,
   "metadata": {},
   "outputs": [
    {
     "name": "stdout",
     "output_type": "stream",
     "text": [
      "Loading modules plink\n",
      "22 commands run in 2 subjobs, each command requiring 2 gb and 1 thread, packing 2 processes per subjob, running 6 processes serially per subjob\n",
      "sbatch --array=0-1 --job-name=swarm --output=/dev/null --error=/dev/null --cpus-per-task=2 --mem=4096 --partition=quick --time=06:00 /spin1/swarm/makariousmb/DTByPYcaLK/swarm.batch\n"
     ]
    }
   ],
   "source": [
    "!swarm -f subset_by_chr.swarm -g 2 -p 2 --time '0:01:00' -b 6 --logdir='PLINK_SUBSET' --partition='quick' --module plink --devel"
   ]
  },
  {
   "cell_type": "code",
   "execution_count": 17,
   "metadata": {},
   "outputs": [
    {
     "name": "stdout",
     "output_type": "stream",
     "text": [
      "28752659\n"
     ]
    }
   ],
   "source": [
    "!swarm -f subset_by_chr.swarm -g 2 -p 2 --time '0:01:00' -b 6 --logdir='PLINK_SUBSET' --partition='quick' --module plink "
   ]
  },
  {
   "cell_type": "code",
   "execution_count": 21,
   "metadata": {},
   "outputs": [
    {
     "name": "stdout",
     "output_type": "stream",
     "text": [
      "           JOBID            TIME            NODES  CPUS  THREADS   LOAD       MEMORY\n",
      "                     Elapsed / Wall               Alloc   Active           Used /     Alloc\n"
     ]
    }
   ],
   "source": [
    "!jobload -j 28752659"
   ]
  },
  {
   "cell_type": "markdown",
   "metadata": {},
   "source": [
    "---"
   ]
  },
  {
   "cell_type": "markdown",
   "metadata": {},
   "source": [
    "# 5. Enjoy!"
   ]
  }
 ],
 "metadata": {
  "kernelspec": {
   "display_name": "python/3.6",
   "language": "python",
   "name": "py3.6"
  },
  "language_info": {
   "codemirror_mode": {
    "name": "ipython",
    "version": 3
   },
   "file_extension": ".py",
   "mimetype": "text/x-python",
   "name": "python",
   "nbconvert_exporter": "python",
   "pygments_lexer": "ipython3",
   "version": "3.6.8"
  }
 },
 "nbformat": 4,
 "nbformat_minor": 2
}
